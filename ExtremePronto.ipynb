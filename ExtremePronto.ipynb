{
 "cells": [
  {
   "cell_type": "markdown",
   "metadata": {},
   "source": [
    "# Searching for Extreme Prontoers\n",
    "\n",
    "This is a work-in-progress, analyzing the open data from [Pronto Cycle Share's Data Challenge](http://www.prontocycleshare.com/datachallenge).\n",
    "\n",
    "See [ProntoDate.ipynb](ProntoData.ipynb) for an intro to the data; this notebook uses pieces that were derived there."
   ]
  },
  {
   "cell_type": "code",
   "execution_count": null,
   "metadata": {
    "collapsed": true
   },
   "outputs": [],
   "source": [
    "%matplotlib inline\n",
    "import matplotlib.pyplot as plt\n",
    "import pandas as pd\n",
    "import numpy as np\n",
    "import seaborn as sns; sns.set()"
   ]
  },
  {
   "cell_type": "code",
   "execution_count": null,
   "metadata": {
    "collapsed": false
   },
   "outputs": [],
   "source": [
    "trips = pd.read_csv('2015_trip_data.csv',\n",
    "                    parse_dates=['starttime', 'stoptime'],\n",
    "                    infer_datetime_format=True)\n",
    "trips['date'] = trips.starttime.map(pd.Timestamp.date).astype('datetime64')\n",
    "trips['minutes'] = trips.tripduration / 60"
   ]
  },
  {
   "cell_type": "code",
   "execution_count": null,
   "metadata": {
    "collapsed": true
   },
   "outputs": [],
   "source": [
    "stations = pd.read_csv('2015_station_data.csv')\n",
    "pronto_shop = dict(id=54, name=\"Pronto shop\",\n",
    "                   terminal=\"Pronto shop\",\n",
    "                   lat=47.6173156, long=-122.3414776,\n",
    "                   dockcount=100, online='10/13/2014')\n",
    "stations = stations.append(pronto_shop, ignore_index=True)\n",
    "distances = pd.read_csv('station_distances.csv', index_col='terminal')"
   ]
  },
  {
   "cell_type": "code",
   "execution_count": null,
   "metadata": {
    "collapsed": false
   },
   "outputs": [],
   "source": [
    "trips['distance'] = [distances.loc[ind] for ind in\n",
    "                     zip(trips.from_station_id, trips.to_station_id)]\n",
    "trips['distance'] /= 1609.34  # convert meters to miles\n",
    "trips['speed'] = trips.distance * 60 / trips.minutes"
   ]
  },
  {
   "cell_type": "markdown",
   "metadata": {},
   "source": [
    "## Stations"
   ]
  },
  {
   "cell_type": "code",
   "execution_count": null,
   "metadata": {
    "collapsed": false
   },
   "outputs": [],
   "source": [
    "g = sns.FacetGrid(trips, col=\"usertype\", hue='usertype', size=6)\n",
    "g.map(plt.scatter, \"distance\", \"speed\", s=4, alpha=0.2)\n",
    "g.axes[0, 0].axis([0, 10, 0, 25])"
   ]
  },
  {
   "cell_type": "code",
   "execution_count": null,
   "metadata": {
    "collapsed": false
   },
   "outputs": [],
   "source": [
    "long_trips = trips[(trips.distance > 6.5) & (trips.distance < 7.0)]\n",
    "long_trips['to_station_id'].value_counts().head()"
   ]
  },
  {
   "cell_type": "code",
   "execution_count": null,
   "metadata": {
    "collapsed": true
   },
   "outputs": [],
   "source": [
    "ride_distance = distances.loc['UD-01', 'BT-03']\n",
    "subset = trips[trips.distance == ride_distance / 1609.34].copy()"
   ]
  },
  {
   "cell_type": "code",
   "execution_count": null,
   "metadata": {
    "collapsed": false
   },
   "outputs": [],
   "source": [
    "subset['starttime'] = subset.starttime.map(lambda t: t.time())\n",
    "subset['inbound'] = subset.to_station_id == 'UD-01'\n",
    "\n",
    "plt.scatter(subset.starttime.values,\n",
    "            subset.minutes.values,\n",
    "            c=subset.inbound);"
   ]
  },
  {
   "cell_type": "code",
   "execution_count": null,
   "metadata": {
    "collapsed": false
   },
   "outputs": [],
   "source": [
    "subset = subset[subset.minutes < 50]\n",
    "subset.date.min(), subset.date.max()"
   ]
  },
  {
   "cell_type": "markdown",
   "metadata": {},
   "source": [
    "Just for reference, here is Google's suggested route between these stations:\n",
    "\n",
    "![Alt text](gmap-blakely.png)\n",
    "\n",
    "<small>[(source)](https://www.google.com/maps/dir/47.666145%09-122.301491/47.615829%09-122.348564/@47.6410289,-122.3619496,13z/data=!3m1!4b1!4m10!4m9!1m3!2m2!1d-122.301491!2d47.666145!1m3!2m2!1d-122.348564!2d47.615829!3e1)</small>\n",
    "\n",
    "Given the pattern here, my guess is that a UW student got a summer internship downtown, and rode Pronto to and from work most days."
   ]
  },
  {
   "cell_type": "code",
   "execution_count": null,
   "metadata": {
    "collapsed": false
   },
   "outputs": [],
   "source": [
    "plt.scatter(subset.starttime.values,\n",
    "            subset.minutes.values,\n",
    "            c=subset.inbound);"
   ]
  },
  {
   "cell_type": "code",
   "execution_count": null,
   "metadata": {
    "collapsed": false
   },
   "outputs": [],
   "source": [
    "ns_in_day = 24 * 60 * 60 * 1E9\n",
    "subset['daynumber'] = (subset.date - subset.date.iloc[0]).astype(int) / ns_in_day\n",
    "\n",
    "g = sns.FacetGrid(subset, col=\"inbound\", hue='inbound', size=6)\n",
    "g.map(sns.regplot, \"daynumber\", \"minutes\");"
   ]
  },
  {
   "cell_type": "code",
   "execution_count": null,
   "metadata": {
    "collapsed": false
   },
   "outputs": [],
   "source": [
    "groups = trips.groupby(['from_station_id', 'to_station_id'])\n",
    "paired = groups.aggregate({'distance':'mean', 'trip_id':'count'})\n",
    "paired.rename(columns={'trip_id': 'count'}, inplace=True)"
   ]
  },
  {
   "cell_type": "code",
   "execution_count": null,
   "metadata": {
    "collapsed": false
   },
   "outputs": [],
   "source": [
    "countmat = paired['count'].unstack()\n",
    "total = countmat + countmat.T\n",
    "total.values.flat[::total.shape[0] + 1] /= 2\n",
    "paired['total'] = total.stack()"
   ]
  },
  {
   "cell_type": "code",
   "execution_count": null,
   "metadata": {
    "collapsed": false
   },
   "outputs": [],
   "source": [
    "paired.head()"
   ]
  },
  {
   "cell_type": "code",
   "execution_count": null,
   "metadata": {
    "collapsed": false
   },
   "outputs": [],
   "source": [
    "ax = plt.axes(yscale='log')\n",
    "ax.plot(paired['distance'], paired['total'], '.k')\n",
    "plt.xlabel('distance between stations')\n",
    "plt.ylabel('number of trips');"
   ]
  },
  {
   "cell_type": "code",
   "execution_count": null,
   "metadata": {
    "collapsed": false
   },
   "outputs": [],
   "source": [
    "paired.query('distance > 4 & total > 90')"
   ]
  }
 ],
 "metadata": {
  "kernelspec": {
   "display_name": "Python 3.4",
   "language": "",
   "name": "python3.4"
  },
  "language_info": {
   "codemirror_mode": {
    "name": "ipython",
    "version": 3
   },
   "file_extension": ".py",
   "mimetype": "text/x-python",
   "name": "python",
   "nbconvert_exporter": "python",
   "pygments_lexer": "ipython3",
   "version": "3.4.3"
  }
 },
 "nbformat": 4,
 "nbformat_minor": 0
}
