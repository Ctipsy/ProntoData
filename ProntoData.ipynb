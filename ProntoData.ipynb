{
 "cells": [
  {
   "cell_type": "markdown",
   "metadata": {},
   "source": [
    "# Analyzing CyclePronto Data\n",
    "\n",
    "This is a work-in-progress, analyzing the open data from [Pronto Cycle Share's Data Challenge](http://www.prontocycleshare.com/datachallenge)."
   ]
  },
  {
   "cell_type": "code",
   "execution_count": null,
   "metadata": {
    "collapsed": false
   },
   "outputs": [],
   "source": [
    "# !curl -O https://s3.amazonaws.com/pronto-data/open_data_year_one.zip\n",
    "# !unzip open_data_year_one.zip"
   ]
  },
  {
   "cell_type": "code",
   "execution_count": null,
   "metadata": {
    "collapsed": false
   },
   "outputs": [],
   "source": [
    "!ls"
   ]
  },
  {
   "cell_type": "code",
   "execution_count": null,
   "metadata": {
    "collapsed": true
   },
   "outputs": [],
   "source": [
    "%matplotlib inline\n",
    "import matplotlib.pyplot as plt\n",
    "import pandas as pd\n",
    "import numpy as np\n",
    "import seaborn as sns; sns.set()"
   ]
  },
  {
   "cell_type": "code",
   "execution_count": null,
   "metadata": {
    "collapsed": false
   },
   "outputs": [],
   "source": [
    "trips = pd.read_csv('2015_trip_data.csv',\n",
    "                    parse_dates=['starttime', 'stoptime'],\n",
    "                    infer_datetime_format=True)\n",
    "trips.head()"
   ]
  },
  {
   "cell_type": "markdown",
   "metadata": {},
   "source": [
    "## Trend with Time"
   ]
  },
  {
   "cell_type": "code",
   "execution_count": null,
   "metadata": {
    "collapsed": false
   },
   "outputs": [],
   "source": [
    "trips['date'] = trips.starttime.map(pd.Timestamp.date).astype('datetime64')"
   ]
  },
  {
   "cell_type": "code",
   "execution_count": null,
   "metadata": {
    "collapsed": true
   },
   "outputs": [],
   "source": [
    "by_date = trips.pivot_table('trip_id', index='date', columns='usertype', aggfunc='count')"
   ]
  },
  {
   "cell_type": "code",
   "execution_count": null,
   "metadata": {
    "collapsed": false
   },
   "outputs": [],
   "source": [
    "fig, ax = plt.subplots(2, figsize=(16, 8))\n",
    "fig.subplots_adjust(hspace=0.4)\n",
    "by_date.iloc[:, 0].plot(ax=ax[0], title='Annual Members');\n",
    "by_date.iloc[:, 1].plot(ax=ax[1], title='Short-term Pass');"
   ]
  },
  {
   "cell_type": "markdown",
   "metadata": {},
   "source": [
    "Big spike in April likely due to the [American Planning Association national conference](http://www.planetizen.com/node/75958/seattle-sets-bikeshare-record-apa-town)"
   ]
  },
  {
   "cell_type": "markdown",
   "metadata": {},
   "source": [
    "### Trend with Weekday"
   ]
  },
  {
   "cell_type": "code",
   "execution_count": null,
   "metadata": {
    "collapsed": false
   },
   "outputs": [],
   "source": [
    "by_weekday = by_date.groupby(by_date.index.dayofweek).mean()\n",
    "by_weekday.columns.name = None\n",
    "by_weekday.index = ['Mon', 'Tues', 'Wed', 'Thurs', 'Fri', 'Sat', 'Sun']\n",
    "by_weekday.plot(title='Average Use by Day of Week');"
   ]
  },
  {
   "cell_type": "markdown",
   "metadata": {},
   "source": [
    "## Trip Durations"
   ]
  },
  {
   "cell_type": "code",
   "execution_count": null,
   "metadata": {
    "collapsed": false
   },
   "outputs": [],
   "source": [
    "trips['minutes'] = trips.tripduration / 60\n",
    "trips.groupby('usertype')['minutes'].hist(bins=np.arange(61), alpha=0.5, normed=True);\n",
    "plt.xlabel('Duration (minutes)')\n",
    "plt.ylabel('relative frequency')\n",
    "plt.title('Trip Durations')\n",
    "plt.legend(['Annual Members', 'Short-term Pass']);"
   ]
  },
  {
   "cell_type": "markdown",
   "metadata": {},
   "source": [
    "## Trip Distances"
   ]
  },
  {
   "cell_type": "code",
   "execution_count": null,
   "metadata": {
    "collapsed": false
   },
   "outputs": [],
   "source": [
    "stations = pd.read_csv('2015_station_data.csv')\n",
    "\n",
    "# For below: some trips start and end at the pronto shop\n",
    "pronto_shop = dict(id=54, name=\"Pronto shop\",\n",
    "                   terminal=\"Pronto shop\",\n",
    "                   lat=47.6173156, long=-122.3414776,\n",
    "                   dockcount=100, online='10/13/2014')\n",
    "stations = stations.append(pronto_shop, ignore_index=True)\n",
    "\n",
    "stations.head()"
   ]
  },
  {
   "cell_type": "markdown",
   "metadata": {},
   "source": [
    "https://developers.google.com/maps/documentation/distance-matrix/intro\n",
    "\n",
    "we have 55 stations, but the free API is limited to 2500 elements per day, 100 elements per request, 100 elements per 10 seconds.\n",
    "There are 54x53/2 = 1431 unique station pairs, so that means we can *just barely* get the info we need for free within one 24 hour period, if we do it correctly the first time.\n",
    "We'll query one (partial) row at a time, waiting 10 seconds between queries."
   ]
  },
  {
   "cell_type": "code",
   "execution_count": null,
   "metadata": {
    "collapsed": false
   },
   "outputs": [],
   "source": [
    "from time import sleep\n",
    "\n",
    "def get_distances(stations):\n",
    "    latlon_list = ['{0},{1}'.format(lat, long)\n",
    "                   for (lat, long) in zip(stations.lat, stations.long)]\n",
    "\n",
    "    def create_url(i):\n",
    "        URL = ('https://maps.googleapis.com/maps/api/distancematrix/json?'\n",
    "               'origins={origins}&destinations={destinations}&mode=bicycling')\n",
    "        return URL.format(origins=latlon_list[i],\n",
    "                          destinations='|'.join(latlon_list[i + 1:]))\n",
    "\n",
    "    for i in range(len(latlon_list) - 1):\n",
    "        url = create_url(i)\n",
    "        filename = \"distances_{0}.json\".format(stations.terminal.iloc[i])\n",
    "        print(i, filename)\n",
    "        !curl \"{url}\" -o {filename}\n",
    "        sleep(11)\n",
    "        \n",
    "# Note: you can call this function at most ~twice per day!\n",
    "# get_distances(stations)\n",
    "\n",
    "# Move all the queried files into a directory, so we don't accidentally overwrite them\n",
    "\n",
    "#!mkdir queried_distances\n",
    "#!mv distances* queried_distances"
   ]
  },
  {
   "cell_type": "markdown",
   "metadata": {},
   "source": [
    "Build and save the station-to-station bike distance matrix"
   ]
  },
  {
   "cell_type": "code",
   "execution_count": null,
   "metadata": {
    "collapsed": false
   },
   "outputs": [],
   "source": [
    "def build_distance_matrix(stations=stations, distdir='queried_distances'):\n",
    "    dist = np.zeros((len(stations), len(stations)), dtype=float)\n",
    "    for i, term in enumerate(stations.terminal[:-1]):\n",
    "        filename = 'queried_distances/distances_{0}.json'.format(term)\n",
    "        row = json.load(open(filename))\n",
    "        dist[i, i + 1:] = [el['distance']['value'] for el in row['rows'][0]['elements']]\n",
    "    dist += dist.T\n",
    "    return pd.DataFrame(dist, index=stations.terminal,\n",
    "                        columns=stations.terminal)\n",
    "\n",
    "#distances = build_distance_matrix()\n",
    "#distances.to_csv('station_distances.csv')"
   ]
  },
  {
   "cell_type": "markdown",
   "metadata": {},
   "source": [
    "Load this distance matrix:"
   ]
  },
  {
   "cell_type": "code",
   "execution_count": null,
   "metadata": {
    "collapsed": false
   },
   "outputs": [],
   "source": [
    "distances = pd.read_csv('station_distances.csv', index_col='terminal')\n",
    "distances.iloc[:5, :5]"
   ]
  },
  {
   "cell_type": "code",
   "execution_count": null,
   "metadata": {
    "collapsed": false
   },
   "outputs": [],
   "source": [
    "trips['distance'] = [distances.loc[ind] for ind in\n",
    "                     zip(trips.from_station_id, trips.to_station_id)]\n",
    "trips['distance'] /= 1609.34  # convert meters to miles"
   ]
  },
  {
   "cell_type": "code",
   "execution_count": null,
   "metadata": {
    "collapsed": false
   },
   "outputs": [],
   "source": [
    "fig, ax = plt.subplots(figsize=(16, 6))\n",
    "trips.groupby('usertype')['distance'].hist(bins=np.linspace(0, 6.5, 40),\n",
    "                                           alpha=0.5,\n",
    "                                           ax=ax);\n",
    "plt.xlabel('distance between start/end (miles)')\n",
    "plt.ylabel('relative frequency')\n",
    "plt.title('Minimum Distance of Trip')\n",
    "plt.legend(['Annual Members', 'Short-term Pass']);"
   ]
  },
  {
   "cell_type": "markdown",
   "metadata": {},
   "source": [
    "## Speed of Riding"
   ]
  },
  {
   "cell_type": "code",
   "execution_count": null,
   "metadata": {
    "collapsed": false
   },
   "outputs": [],
   "source": [
    "trips['speed'] = trips.distance * 60 / trips.minutes\n",
    "trips.groupby('usertype')['speed'].hist(bins=np.linspace(0, 15, 50), alpha=0.5, normed=True);\n",
    "plt.xlabel('min riding speed (MPH)')\n",
    "plt.ylabel('relative frequency')\n",
    "plt.title('Rider Speed Lower Bound (MPH)')\n",
    "plt.legend(['Annual Members', 'Short-term Pass']);"
   ]
  },
  {
   "cell_type": "markdown",
   "metadata": {},
   "source": [
    "From Pronto's [website (signin required)](https://secure.prontocycleshare.com/profile/statisticsFormulas):\n",
    "\n",
    "> Distance traveled is an estimate based on your total usage time with\n",
    "> an assumed average speed of 7.456 miles per hour: Distance Traveled = [Total usage time] * 7.456\n",
    "\n",
    "From this plot, it looks like this estimated speed is very close to the actual mean speed!\n",
    "Still, though, pronto could quite easily use the distance grid between spaces to better estimate the distance the user has traveled."
   ]
  },
  {
   "cell_type": "code",
   "execution_count": null,
   "metadata": {
    "collapsed": false
   },
   "outputs": [],
   "source": [
    "g = sns.FacetGrid(trips, col=\"usertype\", hue='usertype', size=6)\n",
    "g.map(plt.scatter, \"distance\", \"speed\", s=4, alpha=0.2)\n",
    "g.axes[0, 0].axis([0, 10, 0, 25])"
   ]
  },
  {
   "cell_type": "code",
   "execution_count": null,
   "metadata": {
    "collapsed": false
   },
   "outputs": [],
   "source": [
    "trips"
   ]
  },
  {
   "cell_type": "code",
   "execution_count": null,
   "metadata": {
    "collapsed": false
   },
   "outputs": [],
   "source": [
    "long_trips = trips[(trips.distance > 6.5) & (trips.distance < 7.0)]\n",
    "long_trips['to_station_id'].value_counts()"
   ]
  },
  {
   "cell_type": "code",
   "execution_count": null,
   "metadata": {
    "collapsed": true
   },
   "outputs": [],
   "source": [
    "ride_distance = distances.loc['UD-01', 'BT-03']\n",
    "subset = trips[trips.distance == ride_distance / 1609.34].copy()"
   ]
  },
  {
   "cell_type": "code",
   "execution_count": null,
   "metadata": {
    "collapsed": false
   },
   "outputs": [],
   "source": [
    "subset['starttime'] = subset.starttime.map(lambda t: t.time())\n",
    "subset['inbound'] = subset.to_station_id == 'UD-01'\n",
    "\n",
    "plt.scatter(subset.starttime.values,\n",
    "            subset.minutes.values,\n",
    "            c=subset.inbound);"
   ]
  },
  {
   "cell_type": "code",
   "execution_count": null,
   "metadata": {
    "collapsed": false
   },
   "outputs": [],
   "source": [
    "subset = subset[subset.minutes < 50]\n",
    "subset.date.min(), subset.date.max()"
   ]
  },
  {
   "cell_type": "code",
   "execution_count": null,
   "metadata": {
    "collapsed": false
   },
   "outputs": [],
   "source": [
    "subset.to_station_name.value_counts()"
   ]
  },
  {
   "cell_type": "markdown",
   "metadata": {},
   "source": [
    "Just for reference, here is Google's suggested route between these stations:\n",
    "\n",
    "![Alt text](gmap-blakely.png)\n",
    "\n",
    "<small>[(source)](https://www.google.com/maps/dir/47.666145%09-122.301491/47.615829%09-122.348564/@47.6410289,-122.3619496,13z/data=!3m1!4b1!4m10!4m9!1m3!2m2!1d-122.301491!2d47.666145!1m3!2m2!1d-122.348564!2d47.615829!3e1)</small>\n",
    "\n",
    "Given the pattern here, my guess is that a UW student got a summer internship downtown, and rode Pronto to and from work most days."
   ]
  },
  {
   "cell_type": "markdown",
   "metadata": {},
   "source": [
    "## Trend with Elevation"
   ]
  },
  {
   "cell_type": "markdown",
   "metadata": {},
   "source": [
    "2500 requests per day; 512 per request, 10 requests per second\n",
    "\n",
    "https://developers.google.com/maps/documentation/elevation/intro"
   ]
  },
  {
   "cell_type": "code",
   "execution_count": null,
   "metadata": {
    "collapsed": true
   },
   "outputs": [],
   "source": [
    "# Get Elevations via the google maps API\n",
    "def get_station_elevations(stations):\n",
    "    URL = \"https://maps.googleapis.com/maps/api/elevation/json?locations=\"\n",
    "    locs = '|'.join(['{0},{1}'.format(lat, long)\n",
    "                     for (lat, long) in zip(stations.lat, stations.long)])\n",
    "    URL += locs\n",
    "    !curl \"{URL}\" -o elevations.json\n",
    "    \n",
    "# get_station_elevations(stations)"
   ]
  },
  {
   "cell_type": "code",
   "execution_count": null,
   "metadata": {
    "collapsed": false
   },
   "outputs": [],
   "source": [
    "import json\n",
    "\n",
    "def process_station_elevations(filename='elevations.json'):\n",
    "    D = json.load(open(filename))\n",
    "    def unnest(D):\n",
    "        loc = D.pop('location')\n",
    "        loc.update(D)\n",
    "        return loc\n",
    "    elevs = pd.DataFrame([unnest(item) for item in D['results']])\n",
    "    return elevs\n",
    "\n",
    "elevs = process_station_elevations()\n",
    "\n",
    "# double check that locations match\n",
    "print(np.allclose(stations.long, elevs.lng))\n",
    "print(np.allclose(stations.lat, elevs.lat))"
   ]
  },
  {
   "cell_type": "code",
   "execution_count": null,
   "metadata": {
    "collapsed": false
   },
   "outputs": [],
   "source": [
    "stations['elevation'] = elevs['elevation']"
   ]
  },
  {
   "cell_type": "code",
   "execution_count": null,
   "metadata": {
    "collapsed": false
   },
   "outputs": [],
   "source": [
    "stations.head()"
   ]
  },
  {
   "cell_type": "code",
   "execution_count": null,
   "metadata": {
    "collapsed": false
   },
   "outputs": [],
   "source": [
    "elev = stations[['terminal', 'elevation']].set_index('terminal')\n",
    "trips['elevation_start'] = trips.join(elev, on='from_station_id')['elevation']\n",
    "trips['elevation_end'] = trips.join(elev, on='to_station_id')['elevation']\n",
    "trips['elevation_gain'] = trips['elevation_end'] - trips['elevation_start']"
   ]
  },
  {
   "cell_type": "code",
   "execution_count": null,
   "metadata": {
    "collapsed": false
   },
   "outputs": [],
   "source": [
    "g = sns.FacetGrid(trips, col=\"usertype\", hue='usertype')\n",
    "g.map(plt.hist, \"elevation_gain\", bins=np.arange(-145, 150, 10))\n",
    "g.fig.set_figheight(6)\n",
    "g.fig.set_figwidth(16);\n",
    "\n",
    "# plot some lines to guide the eye\n",
    "for lim in range(60, 150, 20):\n",
    "    x = np.linspace(-lim, lim, 3)\n",
    "    for ax in g.axes.flat:\n",
    "        ax.fill(x, 100 * (lim - abs(x)),\n",
    "                color='gray', alpha=0.1, zorder=0)"
   ]
  },
  {
   "cell_type": "code",
   "execution_count": null,
   "metadata": {
    "collapsed": false
   },
   "outputs": [],
   "source": [
    "print(\"total downhill trips:\", (trips.elevation_gain < 0).sum())\n",
    "print(\"total uphill trips:  \", (trips.elevation_gain > 0).sum())"
   ]
  },
  {
   "cell_type": "markdown",
   "metadata": {},
   "source": [
    "## Weather"
   ]
  },
  {
   "cell_type": "code",
   "execution_count": null,
   "metadata": {
    "collapsed": false
   },
   "outputs": [],
   "source": [
    "weather = pd.read_csv('2015_weather_data.csv', index_col='Date', parse_dates=True)\n",
    "weather.columns"
   ]
  },
  {
   "cell_type": "code",
   "execution_count": null,
   "metadata": {
    "collapsed": false
   },
   "outputs": [],
   "source": [
    "by_date = trips.groupby(['date', 'usertype'])['trip_id'].count()\n",
    "by_date.name = 'count'\n",
    "by_date = by_date.reset_index('usertype').join(weather)\n",
    "by_date['weekend'] = (by_date.index.dayofweek >= 5)"
   ]
  },
  {
   "cell_type": "code",
   "execution_count": null,
   "metadata": {
    "collapsed": false
   },
   "outputs": [],
   "source": [
    "g = sns.FacetGrid(by_date, col=\"weekend\", hue='usertype', size=6)\n",
    "g.map(sns.regplot, \"Mean_Temperature_F\", \"count\")\n",
    "g.add_legend();"
   ]
  },
  {
   "cell_type": "code",
   "execution_count": null,
   "metadata": {
    "collapsed": false
   },
   "outputs": [],
   "source": [
    "g = sns.FacetGrid(by_date, col=\"weekend\", hue='usertype', size=6)\n",
    "g.map(sns.regplot, \"Precipitation_In \", \"count\")\n",
    "g.add_legend();\n",
    "g.axes[0, 0].set_ylim(-50, 600);"
   ]
  },
  {
   "cell_type": "code",
   "execution_count": null,
   "metadata": {
    "collapsed": true
   },
   "outputs": [],
   "source": []
  }
 ],
 "metadata": {
  "kernelspec": {
   "display_name": "Python 3.4",
   "language": "",
   "name": "python3.4"
  },
  "language_info": {
   "codemirror_mode": {
    "name": "ipython",
    "version": 3
   },
   "file_extension": ".py",
   "mimetype": "text/x-python",
   "name": "python",
   "nbconvert_exporter": "python",
   "pygments_lexer": "ipython3",
   "version": "3.4.3"
  }
 },
 "nbformat": 4,
 "nbformat_minor": 0
}
