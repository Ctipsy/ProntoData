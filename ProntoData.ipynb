{
 "cells": [
  {
   "cell_type": "markdown",
   "metadata": {},
   "source": [
    "# Digging Into the Pronto Data Release\n",
    "\n",
    "In October, [Pronto CycleShare](https://www.prontocycleshare.com/), turned one year old and released a treasure-trove of data on the 140,000 individual rides trips during the first year.\n",
    "Here I want to dig into this data and answer a few questions:\n",
    "\n",
    "- many naysayers insist that Seattle is too cold, too wet, too hilly to for bicycling to take off. How do these elements actually affect users of the Pronto system?\n",
    "- what is the difference in Pronto usage by annual members and short-term users? How might Pronto evolve to be more useful to these groups?\n",
    "- how do Pronto trips compare to trips by other cyclists in the city? Can characteristics of Pronto use give us insight into deeper trends within the city?\n",
    "- Can we cleverly de-anonymize the data and learn about the usage patterns of individual members?\n",
    "\n",
    "If you're interested in how the plots and figures below were created, I have made available all the Python code I used to run this analysis. For details, see [the Github Repository](http://github.com/jakevdp/ProntoData) or follow the links below each figure below."
   ]
  },
  {
   "cell_type": "markdown",
   "metadata": {},
   "source": [
    "## Dataset Overview"
   ]
  },
  {
   "cell_type": "markdown",
   "metadata": {},
   "source": [
    "The Pronto dataset catalogs 140,000 rides from October 2014 through October 2015, divided among Annual Members and Short-Term Pass Holders.\n",
    "As we will see, these two types of users have very different ride characteristics, and so we will start by splitting them and taking a look at the daily counts for each type of rider:"
   ]
  },
  {
   "cell_type": "markdown",
   "metadata": {},
   "source": [
    "![Alt text](files/figs/daily_trend.png)\n",
    "<small><i><a href=\"BasicAnalysis.ipynb#Trips-Over-the-Year\">figure source</a></i></small>"
   ]
  },
  {
   "cell_type": "markdown",
   "metadata": {},
   "source": [
    "Particularly clear here is that there is a strong **weekly cycle** in both the Annual and Short-Term members.\n",
    "From the inset plots we see that Annual member ride numbers generally peak mid-week, while the short-term ride numbers generally peak on weekends.\n",
    "\n",
    "This being said, though, there are several weeks during the year that buck this trend.\n",
    "One notable instance of this is the large spike in short-term ridership in mid-April: this is likely due to the [American Planning Association national conference](http://www.planetizen.com/node/75958/seattle-sets-bikeshare-record-apa-town) which was held in Seattle that week.\n",
    "\n",
    "In addition to the predictable weekly rise and fall, there is a predictable daily rise and fall which we can see by plotting hourly trip counts.\n",
    "Here we will split not only by the type of user, but by the weekday and weekend in order to illuminate the differences there:"
   ]
  },
  {
   "cell_type": "markdown",
   "metadata": {},
   "source": [
    "![Alt text](files/figs/hourly_trend.png)\n",
    "<small><i><a href=\"BasicAnalysis.ipynb#Trips-Over-a-Day\">figure source</a></i></small>"
   ]
  },
  {
   "cell_type": "markdown",
   "metadata": {},
   "source": [
    "This displays two unique patterns of use within the data: a double-peaked \"commute pattern\" of Annual riders from Monday to Friday, and a broad single-peaked \"recreational pattern\" for the remaining categories.\n",
    "We will explore these hourly trends in more detail further below."
   ]
  },
  {
   "cell_type": "markdown",
   "metadata": {},
   "source": [
    "## Speed and Distance"
   ]
  },
  {
   "cell_type": "markdown",
   "metadata": {},
   "source": [
    "The dataset contains the duration of each trip, a well as the start and end points.\n",
    "By querying the Google Maps API for bicycling directions between each pair of stations, we can get an estimate the distance ridden on each trip.\n",
    "We must keep in mind, however, that there's no guarantee that riders will go directly from point A to point B, so this distance estimate is effectively a *lower bound* on the true distance ridden.\n",
    "With these distances and durations, we are able to estimate the speed of each ride.\n",
    "Here we compare the distributions of ride durations and speeds for annual and short-term users:"
   ]
  },
  {
   "cell_type": "markdown",
   "metadata": {},
   "source": [
    "![Alt text](files/figs/duration_and_speed.png)\n",
    "<small><i><a href=\"BasicAnalysis.ipynb#Trip-Distances-&-Rider-Speed\">figure source</a></i></small>"
   ]
  },
  {
   "cell_type": "markdown",
   "metadata": {},
   "source": [
    "The left panel shows the distribution of trip durations.\n",
    "For annual members, the most common ride length is around 5 minutes.\n",
    "Annual members are also very savvy about the 30-minute free ride limit, with only a small number of their trips surpassing this.\n",
    "Short-term users, on the other hand, either don't mind the extra cost of longer rides, or don't understand the intended use of the system, and frequently go longer than the 30 minute free limit.\n",
    "My hunch is that these short-term users aren't fully aware of this pricing structure (\"I paid for the day, right?\") and likely walk away unhappy with the experience.\n",
    "If I were advising Pronto, I'd recommend they do more to make sure day-pass users understand the pricing structure!\n",
    "\n",
    "The right panel shows the distribution of lower-bound speed estimates.\n",
    "There is a spike at speed zero for both sets of users, indicating rides that start and stop at or near the same location.\n",
    "This is much more prevalent for short-term users, and probably indicates visitors using bikes to explore a neighborhood rather than to get from point A to point B.\n",
    "Beyond this, the distributions for annual and short-term users are quite different, with annual riders showing on average a higher lower-bound speed.\n",
    "You might be tempted to conclude here that annual members ride faster than day-pass users, but the data alone aren't sufficient to support this conclusion.\n",
    "This trend could also be explained if annual users tend to go from point A to point B by the most direct route, while day pass users tend to meander around and get to their destination indirectly.\n",
    "I suspect that the reality is some mix of these two effects.\n",
    "\n",
    "We can see another interesting view of these data by plotting the speed and distance against each other:"
   ]
  },
  {
   "cell_type": "markdown",
   "metadata": {},
   "source": [
    "![Alt text](files/figs/distance_vs_speed.png)\n",
    "<small><i><a href=\"BasicAnalysis.ipynb#Trip-Distances-&-Rider-Speed\">figure source</a></i></small>"
   ]
  },
  {
   "cell_type": "markdown",
   "metadata": {},
   "source": [
    "Again, the red line shows the boundary between free trips and trips which incur an additional fee; we see the very sharp cutoff of annual users at this line.\n",
    "The sharpness of this cutoff suggests that many users plan their rides to not exceed that, and that they would likely do longer rides if the policy were changed.\n",
    "Short-term use is less affected by the 30-minute cutoff, but as I suggested above I believe this is more due to a misunderstanding of usage policy than users being willing to fork over extra cash."
   ]
  },
  {
   "cell_type": "markdown",
   "metadata": {},
   "source": [
    "## Seattle's Challenges: Elevation and Weather"
   ]
  },
  {
   "cell_type": "markdown",
   "metadata": {},
   "source": [
    "One oft-mentioned concern with the feasibility of bike share in Seattle is that it is a very hilly, cold, and rainy city – before Pronto's launch, armchair analysts predicted that *nobody* would ride when the weather is bad, and even in good weather all rides would just be downhill!\n",
    "This idea was usually brought up as an argument against the feasibility of the system within the city (\"Sure, bikeshare works other places, but it can't work here: Seattle is *special*! We're just so *special*!\")\n",
    "Let's take a look at ride trends with elevation and weather to see if this prediction was realized.\n",
    "\n",
    "Elevation data is not included in the data release, but again we can turn to the Google Maps API to get what we need.\n",
    "The distribution of elevation changes over the year is shown below:"
   ]
  },
  {
   "cell_type": "markdown",
   "metadata": {},
   "source": [
    "![Alt text](files/figs/elevation.png)\n",
    "<small><i><a href=\"BasicAnalysis.ipynb#Trend-with-Elevation\">figure source</a></i></small>"
   ]
  },
  {
   "cell_type": "markdown",
   "metadata": {},
   "source": [
    "This shows that particularly with the annual members, downhill rides outnumber uphill rides by nearly a factor of 2!\n",
    "This is especially true for rides with an elevation change of greater than 50 meters or so (for reference, 50 meters is about the elevation difference between Capitol Hill/11th and Pine and downtown/2nd and Pine).\n",
    "Of the 142,000 trips logged in Pronto's first year, there were about 80,000 total downhill trips and 50,000 total uphill trips, which means Pronto staff had to shuttle almost 100 bikes per day from low-lying stations to higher-elevation stations!\n",
    "\n",
    "Next let's take a look at the trends with weather. We will look a the effect of temperature and precipitation, separating weekdays from weekends and annual users from short-term users:"
   ]
  },
  {
   "cell_type": "markdown",
   "metadata": {},
   "source": [
    "![Alt text](files/figs/temperature.png)\n",
    "<small><i><a href=\"BasicAnalysis.ipynb#Trend-with-Weather\">figure source</a></i></small>"
   ]
  },
  {
   "cell_type": "markdown",
   "metadata": {},
   "source": [
    "![Alt text](files/figs/precipitation.png)\n",
    "<small><i><a href=\"BasicAnalysis.ipynb#Trend-with-Weather\">figure source</a></i></small>"
   ]
  },
  {
   "cell_type": "markdown",
   "metadata": {},
   "source": [
    "The broad trends are exactly as one might expect: more people opt to ride their bicycles city-wide on warm, sunny days.\n",
    "One interesting feature here is seen in both the precipitation and temperature plots: on Mondays through Fridays, the slope of the trend line is about equal for Annual and Short-term users. But on weekends, the annual members seem to be *less affected by weather* while short-term users are *more affected by weather*.\n",
    "This suggests that the number of \"opportunistic\" riders — those who see a nice day and decide to go on a Pronto ride — is larger for Annual members during the week, and larger for short-term members on the weekend.\n",
    "Additionally, we see that on Monday to Friday, annual users essentially always outnumber short-term users, while on the weekends short-term users outnumber annual users *as long as the weather is good*.\n",
    "\n",
    "How does all this bode for Seattle's cycle share? The trends are just what anyone would have expected (people like to bike downhill on warm sunny days), and I suspect that for most readers, the extent to which the realization of these predictions condemns Pronto's model is most closely correlated with how you felt before seeing the data."
   ]
  },
  {
   "cell_type": "markdown",
   "metadata": {
    "collapsed": true
   },
   "source": [
    "### Comparing with the Fremont Bridge\n",
    "\n",
    "Another interesting question we can answer is how the number of Pronto rides relates to the number of *total* bicycle trips in Seattle.\n",
    "The latter numbers are very difficult to pin down, but we do have a nice source of ridership data in the [Fremont Bridge Bike Counter](http://www.seattle.gov/transportation/bikecounter_fremont.htm), which has been logging bicycle trips across the Fremont bridge for the past three years.\n",
    "The figure below shows the ratio of daily Pronto trips to daily Fremont Bridge trips over the year:"
   ]
  },
  {
   "cell_type": "markdown",
   "metadata": {},
   "source": [
    "![Alt text](files/figs/compare_with_fremont.png)\n",
    "<small><i><a href=\"CompareWithFremont.ipynb\">figure source</a></i></small>"
   ]
  },
  {
   "cell_type": "markdown",
   "metadata": {},
   "source": [
    "We see that the ratio for annual members hovers at around 10% throughout the year: each day, for every annual member Pronto trip, there are ten bicycle trips across the Fremont bridge. This number is remarkably stable throughout the year, though the ratio appears to be slightly lower during the summer months.\n",
    "It would be interesting to track this ratio over more years: such data would be a good indication of trends in Pronto's share of total local bicycle traffic."
   ]
  },
  {
   "cell_type": "markdown",
   "metadata": {},
   "source": [
    "## Data Summary\n",
    "\n",
    "The above views of the data paint an interesting picture regarding the use of Pronto, and I see several main takeaway points:\n",
    "\n",
    "- Annual Members and Day Pass users show markedly different behavior in aggregate: annual members seem to use Pronto mostly for commuting from point A to point B on Monday-Friday, while short-term users use Pronto primarily on weekends to explore particular areas of town.\n",
    "- While annual members seem savvy to the pricing structure, one out of four short-term-pass rides exceeds the half hour limit and incurs an additional usage fee. For the sake of the customer, Pronto should probably make effort to better inform short-term users of this pricing structure.\n",
    "- Elevation and weather affect use just as you would expect: among annual members, there are nearly twice as many downhill trips as uphill trips, and cold & rain significantly decrease the number of rides on a given day. The effect of weather on Pronto ride numbers over the course of the year is comparable to that seen for riders crossing the Fremont Bridge.\n",
    "- Pronto's share of bicycle trips in the city has been relatively steady since day 1. This is interesting because we might expect the number of Pronto trips to have grown as the year went on, but it seems that adjusted for weather, the number of trips has been basically constant.\n",
    "\n",
    "With this basic understanding of what is in the data, we can now go on to ask some questions that require some slightly more sophisticated modeling of the data."
   ]
  },
  {
   "cell_type": "markdown",
   "metadata": {},
   "source": [
    "## What Days do Pronto Users Work?\n",
    "\n",
    "We have found above that there are distinct differences in the hourly ride counts between annual and short-term users, and between weekdays and weekends.\n",
    "One way we can explore this deeper is to use [*Unsupervised Machine Learning*](https://en.wikipedia.org/wiki/Unsupervised_learning) approaches to try to discover structure in these hourly trends.\n",
    "What I'm going to do here is a bit abstract, but bear with me: each day has 24 hours, and we can count the number of rides over the course of a day to get a 24-component vector describing each day.\n",
    "In this way, you can view each day as *a single point in a 24-dimensional space*, and ask questions about the nature of these 365 points in 24 dimensions.\n",
    "\n",
    "Now, humans are very good at visualizing two-dimensional or three-dimensional data: the plots above are mostly two-dimensional (plotting \"x\" values vs. \"y\" values), but as the dimension grows this gets more difficult.\n",
    "To gain an intuition about high-dimensional data, scientists often make use of what are known as *dimensionality reduction* algorithms.\n",
    "In this case, we would like to reduce the dimensions of the data from 24 to 2, while maintaining some reflection of the data structure.\n",
    "\n",
    "A very common method for such dimensionality reduction is is [*Principal Component Analysis*](https://en.wikipedia.org/wiki/Principal_component_analysis), which is a way of automatically rotating and stretching high-dimensional data to create a suitable low-dimensional projection which preserves important relationships.\n",
    "Applying such an analysis to the Pronto hourly data over the course of the year yields the following representation of the data, where we color the points by total daily rides:"
   ]
  },
  {
   "cell_type": "markdown",
   "metadata": {},
   "source": [
    "![Alt text](files/figs/pca_raw.png)\n",
    "<small><i><a href=\"WorkHabits.ipynb#Principal-Component-Analysis\">figure source</a></i></small>"
   ]
  },
  {
   "cell_type": "markdown",
   "metadata": {},
   "source": [
    "What's notable here is that there are two distinct \"clusters\" of days within the data represented by the two oblong clusters, and that the more rides there are in a given day, the more the clusters diverge.\n",
    "\n",
    "To see what these clusters actually represent, we might use another unsupervised machine learning method, a clustering algorithm (specifically a [Gaussian Mixture Model](https://en.wikipedia.org/wiki/Mixture_model)) to identify groups within the 24-dimensional space and automatically assign cluster membership.\n",
    "After doing this, we can re-plot the data with these cluster labels and show the hourly trends within each group:"
   ]
  },
  {
   "cell_type": "markdown",
   "metadata": {},
   "source": [
    "![Alt text](files/figs/pca_clustering.png)\n",
    "<small><i><a href=\"WorkHabits.ipynb#Automated-Clustering\">figure source</a></i></small>"
   ]
  },
  {
   "cell_type": "markdown",
   "metadata": {},
   "source": [
    "We see that the pattern reflected in these two groups of points is exactly the commute/recreation split that we saw in the hourly data above.\n",
    "But we've gone a bit further than before: rather than deciding *a priori* to plot weekends vs. weekdays, we have created a model whereby we can *classify* each day of the year as a \"commute day\" in red or a \"recreation day\" in purple.\n",
    "For example, we can split between annual and short-term users to get a better idea of where they lie:"
   ]
  },
  {
   "cell_type": "markdown",
   "metadata": {},
   "source": [
    "![Alt text](files/figs/pca_annual_vs_shortterm.png)\n",
    "<small><i><a href=\"WorkHabits.ipynb#Automated-Clustering\">figure source</a></i></small>"
   ]
  },
  {
   "cell_type": "markdown",
   "metadata": {},
   "source": [
    "The results match our intuition from exploring the data above: the red \"commute\" cluster is made up entirely of annual riders, while the purple \"recreational\" cluster is a mix of annual and short-term riders (with one lone short-term day straying into the commute cluster – this misclassification appears to be simply due to random noise).\n",
    "\n",
    "Our intuition is that \"commute\" patterns would happen from Monday to Friday, while \"recreational\" patterns would happen on the weekends, but the interesting thing is there are some days which don't match this pattern — these days are the red points in the following plot, and *every single one of them* corresponds to a holiday that lies on a week day."
   ]
  },
  {
   "cell_type": "markdown",
   "metadata": {},
   "source": [
    "![Alt text](figs/pca_holiday_labels.png)\n",
    "<small><i><a href=\"WorkHabits.ipynb#Identifying-Mismatches\">figure source</a></i></small>"
   ]
  },
  {
   "cell_type": "markdown",
   "metadata": {},
   "source": [
    "This tells us that as a group, Pronto Users did not commute Thanksgiving week, Christmas week, New Years week, Memorial Day, Independence Day, Labor Day, or (surprisingly) Columbus Day.\n",
    "\n",
    "Similarly, we can identify several federal holidays that lie in the \"commute\" cluster: these are the green points in the above plot. These are holidays on which Pronto users still went to work: they are Presidents Day, Veterans Day, and Martin Luther King Day. Though these days show a commute pattern, they are among the closest of the \"commute\" points to the \"recreational\" cluster.\n",
    "\n",
    "On the other hand, when we look on the other side of the mismatch we find *not a single weekend day* where Pronto users as a whole went to work. Apparently Pronto users really know how to take their days off.\n",
    "I find it immensely entertaining that from bicycling data alone, we can learn about the work habits of Seattle bicycle users!"
   ]
  },
  {
   "cell_type": "markdown",
   "metadata": {},
   "source": [
    "## Finding Pronto's Power-Users\n",
    "\n",
    "The Pronto data release is almost entirely anonymized: that is, there is no \"rider ID\" that lets you track the behavior of an individual user over the course of the year.\n",
    "But as with most anonymized data, it is possible (if you are clever) to effectively de-anonymize some users using patterns within the data.\n",
    "\n",
    "We have several pieces of information within the data that might help us identify individuals:\n",
    "\n",
    "- The birth year of the rider on each trip\n",
    "- The gender of the rider on each trip\n",
    "- The start and end points, which *may* be similar from day to day for any individual\n",
    "- The speed of riding, which *probably* is similar day to day for any individual\n",
    "- The timing of trips, which *could* show a pattern for any individual\n",
    "\n",
    "Notice that the last three points are based on the idea that people tend to be creatures of habit: the question is, can we use these likely patterns to identify individual frequent Pronto users?\n",
    "Let's start by taking a look at number of trips as a function of distance between stations:"
   ]
  },
  {
   "cell_type": "markdown",
   "metadata": {},
   "source": [
    "![Alt text](figs/trips_by_distance.png)\n",
    "<small><i><a href=\"ExtremePronto.ipynb#Distance-vs-Count\">figure source</a></i></small>"
   ]
  },
  {
   "cell_type": "markdown",
   "metadata": {},
   "source": [
    "On the outskirts of the distribution (marked by the red box) is a point representing a pair of stations nearly seven miles apart, which saw nearly 100 trips between them over the course of the year — far more than any other station pair at that distance.\n",
    "Could this be the work of an individual Pronto power-user?\n",
    "\n",
    "Looking at the trips in detail, we see that the answer is a definitive yes!\n",
    "All but a few of these trips through the year are from a single user: a male born in 1979, who is riding from downtown to University Village in the morning, and returning in the evening:"
   ]
  },
  {
   "cell_type": "markdown",
   "metadata": {},
   "source": [
    "![Alt text](figs/power_user.png)\n",
    "<small><i><a href=\"ExtremePronto.ipynb#Finding-This-User\">figure source</a></i></small>"
   ]
  },
  {
   "cell_type": "markdown",
   "metadata": {},
   "source": [
    "Now, it is certainly the case that there could be more than one 36-year-old male who rides 6.8 miles at the same time each day, but this is very unlikely.\n",
    "When we find such a distinct, consistent pattern of use, we can be fairly confident that we have found the behavior of an individual person.\n",
    "\n",
    "We might go on to wonder how many more individuals we could find.\n",
    "Doing this by hand would be a long and painful process: with over 50 stations, there are over 1200 unique station pairs and any number of riders of various ages and genders.\n",
    "So instead of combing through the data by hand, we can use another unsupervised algorithm to do the search automatically.\n",
    "We are again looking for clusters, but want an algorithm that is sensitive to overdensities within a noisy background: an algorithm known as [Mean-Shift Clustering](https://en.wikipedia.org/wiki/Mean_shift) is a good candidate for this.\n",
    "\n",
    "After running the clustering model, we will define a metric that measures how well we have localized an individual rider, rank the station pairs by this metric, and then only visually examine the dozen or so with the highest rankings.\n",
    "With this ranking done, we find that the top match is the person we found by eye above!\n",
    "\n",
    "To learn a bit more, let's look at when his rides occurred over the course of the year, and how his ride times changed as time went on:"
   ]
  },
  {
   "cell_type": "markdown",
   "metadata": {},
   "source": [
    "![Alt text](figs/extreme-user-1.png)\n",
    "<small><i><a href=\"ExtremePronto.ipynb#Mean-Shift-Clustering\">figure source</a></i></small>"
   ]
  },
  {
   "cell_type": "markdown",
   "metadata": {},
   "source": [
    "We see that he rode from the beginning of July until mid-September, which aligns tightly with the summer quarter dates at UW. Perhaps this was a person attending summer classes at UW while living in Belltown.\n",
    "Over the course of the summer, his average ride time decreased by about a minute each direction, indicating that 13.5 daily miles on a Pronto bike really helped him get in shape!\n",
    "\n",
    "Similarly, the other top cluster results show similar patterns for other riders, with information about the ride speed trends over time:"
   ]
  },
  {
   "cell_type": "markdown",
   "metadata": {},
   "source": [
    "![Alt text](figs/extreme-user-2.png)\n",
    "![Alt text](figs/extreme-user-3.png)\n",
    "![Alt text](figs/extreme-user-4.png)\n",
    "![Alt text](figs/extreme-user-5.png)\n",
    "<small><i><a href=\"ExtremePronto.ipynb#Mean-Shift-Clustering\">figure source</a></i></small>"
   ]
  },
  {
   "cell_type": "markdown",
   "metadata": {},
   "source": [
    "There are a few general trends we can see in these data representations:\n",
    "\n",
    "- **Morning commute rides tend to be a few minutes faster than evening commute rides**. Perhaps people are tired at the end of the day, or perhaps they are more relaxed when they don't need to get to work at a certain time\n",
    "\n",
    "- **In all these cases, rider speed increased gradually over time**. All of these riders show a trend of getting faster with time. For the more extreme riders, this improvement is as much as 10-15%, which indicates a fairly substantial improvement in health!\n",
    "\n",
    "- **These are probably new riders**. Riders who were already riding their own bike frequently before Pronto existed would not likely show such a significant improvment in fitness over time. So I think we can be fairly confident that these power-users are riding **more** frequently now with Pronto than they were before Pronto existed.\n",
    "\n",
    "We could certainly go further and find less significant clusters, and probably identify dozens or hundreds more individuals based on their ridership patterns.\n",
    "We could also cross-match nearby stations to determine whether anyone is using, say, a different station on the way to work or on the way home.\n",
    "We could compute aggregate statistics on how Pronto is improving health, based on this de-anonymized data.\n",
    "The possibilities really are endless, but I've written enough here already!"
   ]
  }
 ],
 "metadata": {
  "kernelspec": {
   "display_name": "Python 3.4",
   "language": "",
   "name": "python3.4"
  },
  "language_info": {
   "codemirror_mode": {
    "name": "ipython",
    "version": 3
   },
   "file_extension": ".py",
   "mimetype": "text/x-python",
   "name": "python",
   "nbconvert_exporter": "python",
   "pygments_lexer": "ipython3",
   "version": "3.4.3"
  }
 },
 "nbformat": 4,
 "nbformat_minor": 0
}
